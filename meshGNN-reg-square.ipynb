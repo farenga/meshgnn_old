{
  "nbformat": 4,
  "nbformat_minor": 0,
  "metadata": {
    "colab": {
      "name": "meshGNN-batched.ipynb",
      "provenance": [],
      "collapsed_sections": [],
      "include_colab_link": true
    },
    "kernelspec": {
      "name": "python3",
      "display_name": "Python 3"
    },
    "language_info": {
      "name": "python"
    },
    "accelerator": "GPU"
  },
  "cells": [
    {
      "cell_type": "markdown",
      "metadata": {
        "id": "view-in-github",
        "colab_type": "text"
      },
      "source": [
        "<a href=\"https://colab.research.google.com/github/farenga/meshgnn/blob/main/meshGNN-reg-square.ipynb\" target=\"_parent\"><img src=\"https://colab.research.google.com/assets/colab-badge.svg\" alt=\"Open In Colab\"/></a>"
      ]
    },
    {
      "cell_type": "code",
      "execution_count": 1,
      "metadata": {
        "id": "1JlD7hAREcP4",
        "colab": {
          "base_uri": "https://localhost:8080/"
        },
        "outputId": "22fc220e-5a29-49d0-b4c2-9721cf293cb3"
      },
      "outputs": [
        {
          "output_type": "stream",
          "name": "stdout",
          "text": [
            "Looking in links: https://data.pyg.org/whl/torch-1.10.0+cu111.html\n",
            "Collecting torch-scatter\n",
            "  Downloading https://data.pyg.org/whl/torch-1.10.0%2Bcu113/torch_scatter-2.0.9-cp37-cp37m-linux_x86_64.whl (7.9 MB)\n",
            "\u001b[K     |████████████████████████████████| 7.9 MB 5.5 MB/s \n",
            "\u001b[?25hInstalling collected packages: torch-scatter\n",
            "Successfully installed torch-scatter-2.0.9\n",
            "Looking in links: https://data.pyg.org/whl/torch-1.10.0+cu111.html\n",
            "Collecting torch-sparse\n",
            "  Downloading https://data.pyg.org/whl/torch-1.10.0%2Bcu113/torch_sparse-0.6.13-cp37-cp37m-linux_x86_64.whl (3.5 MB)\n",
            "\u001b[K     |████████████████████████████████| 3.5 MB 5.3 MB/s \n",
            "\u001b[?25hRequirement already satisfied: scipy in /usr/local/lib/python3.7/dist-packages (from torch-sparse) (1.4.1)\n",
            "Requirement already satisfied: numpy>=1.13.3 in /usr/local/lib/python3.7/dist-packages (from scipy->torch-sparse) (1.21.5)\n",
            "Installing collected packages: torch-sparse\n",
            "Successfully installed torch-sparse-0.6.13\n",
            "Looking in links: https://data.pyg.org/whl/torch-1.10.0+cu111.html\n",
            "Collecting torch-cluster\n",
            "  Downloading https://data.pyg.org/whl/torch-1.10.0%2Bcu113/torch_cluster-1.6.0-cp37-cp37m-linux_x86_64.whl (2.5 MB)\n",
            "\u001b[K     |████████████████████████████████| 2.5 MB 5.4 MB/s \n",
            "\u001b[?25hInstalling collected packages: torch-cluster\n",
            "Successfully installed torch-cluster-1.6.0\n",
            "Looking in links: https://data.pyg.org/whl/torch-1.10.0+cu111.html\n",
            "Collecting torch-spline-conv\n",
            "  Downloading https://data.pyg.org/whl/torch-1.10.0%2Bcu113/torch_spline_conv-1.2.1-cp37-cp37m-linux_x86_64.whl (750 kB)\n",
            "\u001b[K     |████████████████████████████████| 750 kB 5.3 MB/s \n",
            "\u001b[?25hInstalling collected packages: torch-spline-conv\n",
            "Successfully installed torch-spline-conv-1.2.1\n",
            "Collecting torch-geometric\n",
            "  Downloading torch_geometric-2.0.4.tar.gz (407 kB)\n",
            "\u001b[K     |████████████████████████████████| 407 kB 5.1 MB/s \n",
            "\u001b[?25hRequirement already satisfied: tqdm in /usr/local/lib/python3.7/dist-packages (from torch-geometric) (4.63.0)\n",
            "Requirement already satisfied: numpy in /usr/local/lib/python3.7/dist-packages (from torch-geometric) (1.21.5)\n",
            "Requirement already satisfied: scipy in /usr/local/lib/python3.7/dist-packages (from torch-geometric) (1.4.1)\n",
            "Requirement already satisfied: pandas in /usr/local/lib/python3.7/dist-packages (from torch-geometric) (1.3.5)\n",
            "Requirement already satisfied: jinja2 in /usr/local/lib/python3.7/dist-packages (from torch-geometric) (2.11.3)\n",
            "Requirement already satisfied: requests in /usr/local/lib/python3.7/dist-packages (from torch-geometric) (2.23.0)\n",
            "Requirement already satisfied: pyparsing in /usr/local/lib/python3.7/dist-packages (from torch-geometric) (3.0.7)\n",
            "Requirement already satisfied: scikit-learn in /usr/local/lib/python3.7/dist-packages (from torch-geometric) (1.0.2)\n",
            "Requirement already satisfied: MarkupSafe>=0.23 in /usr/local/lib/python3.7/dist-packages (from jinja2->torch-geometric) (2.0.1)\n",
            "Requirement already satisfied: python-dateutil>=2.7.3 in /usr/local/lib/python3.7/dist-packages (from pandas->torch-geometric) (2.8.2)\n",
            "Requirement already satisfied: pytz>=2017.3 in /usr/local/lib/python3.7/dist-packages (from pandas->torch-geometric) (2018.9)\n",
            "Requirement already satisfied: six>=1.5 in /usr/local/lib/python3.7/dist-packages (from python-dateutil>=2.7.3->pandas->torch-geometric) (1.15.0)\n",
            "Requirement already satisfied: urllib3!=1.25.0,!=1.25.1,<1.26,>=1.21.1 in /usr/local/lib/python3.7/dist-packages (from requests->torch-geometric) (1.24.3)\n",
            "Requirement already satisfied: chardet<4,>=3.0.2 in /usr/local/lib/python3.7/dist-packages (from requests->torch-geometric) (3.0.4)\n",
            "Requirement already satisfied: certifi>=2017.4.17 in /usr/local/lib/python3.7/dist-packages (from requests->torch-geometric) (2021.10.8)\n",
            "Requirement already satisfied: idna<3,>=2.5 in /usr/local/lib/python3.7/dist-packages (from requests->torch-geometric) (2.10)\n",
            "Requirement already satisfied: threadpoolctl>=2.0.0 in /usr/local/lib/python3.7/dist-packages (from scikit-learn->torch-geometric) (3.1.0)\n",
            "Requirement already satisfied: joblib>=0.11 in /usr/local/lib/python3.7/dist-packages (from scikit-learn->torch-geometric) (1.1.0)\n",
            "Building wheels for collected packages: torch-geometric\n",
            "  Building wheel for torch-geometric (setup.py) ... \u001b[?25l\u001b[?25hdone\n",
            "  Created wheel for torch-geometric: filename=torch_geometric-2.0.4-py3-none-any.whl size=616603 sha256=e43fa76a808673d0333512989c2ae29ff2255564b9235002b4b0efb82d82bbe3\n",
            "  Stored in directory: /root/.cache/pip/wheels/18/a6/a4/ca18c3051fcead866fe7b85700ee2240d883562a1bc70ce421\n",
            "Successfully built torch-geometric\n",
            "Installing collected packages: torch-geometric\n",
            "Successfully installed torch-geometric-2.0.4\n"
          ]
        }
      ],
      "source": [
        "import torch\n",
        "\n",
        "def format_pytorch_version(version):\n",
        "  return version.split('+')[0]\n",
        "\n",
        "TORCH_version = torch.__version__\n",
        "TORCH = format_pytorch_version(TORCH_version)\n",
        "\n",
        "def format_cuda_version(version):\n",
        "  return 'cu' + version.replace('.', '')\n",
        "\n",
        "CUDA_version = torch.version.cuda\n",
        "CUDA = format_cuda_version(CUDA_version)\n",
        "\n",
        "!pip install torch-scatter -f https://data.pyg.org/whl/torch-{TORCH}+{CUDA}.html\n",
        "!pip install torch-sparse -f https://data.pyg.org/whl/torch-{TORCH}+{CUDA}.html\n",
        "!pip install torch-cluster -f https://data.pyg.org/whl/torch-{TORCH}+{CUDA}.html\n",
        "!pip install torch-spline-conv -f https://data.pyg.org/whl/torch-{TORCH}+{CUDA}.html\n",
        "!pip install torch-geometric"
      ]
    },
    {
      "cell_type": "code",
      "source": [
        "import numpy as np\n",
        "import torch_geometric\n",
        "from torch_geometric.data import Data\n",
        "import matplotlib.pyplot as plt\n",
        "import scipy.io\n",
        "import networkx as nx"
      ],
      "metadata": {
        "id": "AaCl5ZVr1dmq"
      },
      "execution_count": 2,
      "outputs": []
    },
    {
      "cell_type": "code",
      "source": [
        "from google.colab import drive\n",
        "drive.mount('/gdrive')\n",
        "\n",
        "%cd /gdrive/MyDrive/University/Courses/NAPDE-Project/data\n",
        "%ls"
      ],
      "metadata": {
        "colab": {
          "base_uri": "https://localhost:8080/"
        },
        "id": "7tNYTHLA2_dN",
        "outputId": "4e62d218-3749-49b3-8ced-c56f26139953"
      },
      "execution_count": 3,
      "outputs": [
        {
          "output_type": "stream",
          "name": "stdout",
          "text": [
            "Mounted at /gdrive\n",
            "/gdrive/MyDrive/University/Courses/NAPDE-Project/data\n",
            "AdiacencyMatrices_square.mat   AreaVectors_voronoi.mat\n",
            "AdiacencyMatrices_voronoi.mat  CoordMatrices_square.mat\n",
            "AreaVectors_square.mat         CoordMatrices_voronoi.mat\n"
          ]
        }
      ]
    },
    {
      "cell_type": "code",
      "source": [
        "dataset_type = 'square'\n",
        "\n",
        "if dataset_type=='square':\n",
        "  areas = torch.tensor(scipy.io.loadmat('AreaVectors_square.mat')['AreaVectors'],dtype=torch.float)\n",
        "  coords = torch.tensor(scipy.io.loadmat('CoordMatrices_square.mat')['CoordMatrices'],dtype=torch.float)\n",
        "  adjacencies = torch.tensor(scipy.io.loadmat('AdiacencyMatrices_square.mat')['AdiacencyMatrices'])\n",
        "  areas = areas.unsqueeze(-1)\n",
        "  coords = coords.unsqueeze(-1)\n",
        "  adjacencies = adjacencies.unsqueeze(-1)\n",
        "\n",
        "if dataset_type=='voronoi':\n",
        "  areas = torch.tensor(scipy.io.loadmat('AreaVectors_voronoi.mat')['AreaVectors'],dtype=torch.float)\n",
        "  coords = torch.tensor(scipy.io.loadmat('CoordMatrices_voronoi.mat')['CoordMatrices'],dtype=torch.float)\n",
        "  adjacencies = torch.tensor(scipy.io.loadmat('AdiacencyMatrices_voronoi.mat')['AdiacencyMatrices'])\n",
        "  "
      ],
      "metadata": {
        "id": "ltmw_Xub1soC"
      },
      "execution_count": 176,
      "outputs": []
    },
    {
      "cell_type": "code",
      "source": [
        "sample_idx = 0\n",
        "x = torch.cat([coords[:,:,sample_idx],areas[:,:,sample_idx]],-1)\n",
        "A = adjacencies[:,:,sample_idx]\n",
        "edge_index = (A > 0).nonzero().t()\n",
        "data = Data(x=x, edge_index=edge_index)"
      ],
      "metadata": {
        "id": "R_MJ0klRaxSk"
      },
      "execution_count": 177,
      "outputs": []
    },
    {
      "cell_type": "code",
      "source": [
        "print('DATA SUMMARY\\n')\n",
        "print(data)\n",
        "print('----------------------------------------')\n",
        "\n",
        "print(f'Number of nodes: {data.num_nodes}')\n",
        "print(f'Number of edges: {data.num_edges}')\n",
        "print(f'Average node degree: {data.num_edges / data.num_nodes:.2f}')"
      ],
      "metadata": {
        "colab": {
          "base_uri": "https://localhost:8080/"
        },
        "id": "RB6evg2jsiib",
        "outputId": "0292dcc0-e68b-44cc-c6a0-d467b86f5a14"
      },
      "execution_count": 178,
      "outputs": [
        {
          "output_type": "stream",
          "name": "stdout",
          "text": [
            "DATA SUMMARY\n",
            "\n",
            "Data(x=[256, 3], edge_index=[2, 960])\n",
            "----------------------------------------\n",
            "Number of nodes: 256\n",
            "Number of edges: 960\n",
            "Average node degree: 3.75\n"
          ]
        }
      ]
    },
    {
      "cell_type": "code",
      "source": [
        "import torch.nn as nn\n",
        "from torch_geometric.nn import SAGEConv\n",
        "from torch_geometric.utils import softmax\n",
        "\n",
        "\n",
        "class GCN(torch.nn.Module):\n",
        "    def __init__(self, hidden_units):\n",
        "        super().__init__()\n",
        "        torch.manual_seed(123)\n",
        "        self.convIn = SAGEConv(3, hidden_units)\n",
        "        self.conv2 = SAGEConv(hidden_units, hidden_units)\n",
        "        self.conv3 = SAGEConv(hidden_units, hidden_units)\n",
        "        self.convOut = SAGEConv(hidden_units, 2)\n",
        "\n",
        "    def forward(self, x, edge_index):\n",
        "        x = self.convIn(x, edge_index)\n",
        "        x = x.tanh()\n",
        "        x = self.conv2(x, edge_index)\n",
        "        x = x.tanh()\n",
        "        x = self.conv3(x, edge_index)\n",
        "        x = x.tanh()\n",
        "        x = self.convOut(x, edge_index)\n",
        "        #x = torch.nn.functional.softmax(x)\n",
        "        x = nn.Softmax(dim=1)(x)\n",
        "        return x\n",
        "\n",
        "model = GCN(hidden_units=32)\n",
        "print(model)"
      ],
      "metadata": {
        "colab": {
          "base_uri": "https://localhost:8080/"
        },
        "id": "5ff79f5as37v",
        "outputId": "8a3712ba-72e1-4ade-a714-5f0f78ac0509"
      },
      "execution_count": 179,
      "outputs": [
        {
          "output_type": "stream",
          "name": "stdout",
          "text": [
            "GCN(\n",
            "  (convIn): SAGEConv(3, 32)\n",
            "  (conv2): SAGEConv(32, 32)\n",
            "  (conv3): SAGEConv(32, 32)\n",
            "  (convOut): SAGEConv(32, 2)\n",
            ")\n"
          ]
        }
      ]
    },
    {
      "cell_type": "code",
      "source": [
        "from torch_geometric.utils import degree\n",
        "def loss_normalized_cut(y,graph):\n",
        "  d=degree(graph.edge_index[0],num_nodes = y.size(0))\n",
        "  gamma = torch.t( y) @ d\n",
        "  c = torch.sum(y[ graph.edge_index[0],0]*y[graph.edge_index[1],1])\n",
        "  \n",
        "  outclass = torch.tensor(y>=.5,dtype=torch.float)\n",
        "  areas = torch.matmul(graph.x[:,-1].t(),outclass)\n",
        "\n",
        "  return torch.sum(torch.div(c,gamma)) + 0.5*torch.abs(areas[0]-areas[1])"
      ],
      "metadata": {
        "id": "8vUt7zJM92Xq"
      },
      "execution_count": 180,
      "outputs": []
    },
    {
      "cell_type": "code",
      "source": [
        "optimizer = torch.optim.Adam(model.parameters(), lr=0.01)\n",
        "#criterion = torch.nn.CrossEntropyLoss()\n",
        "\n",
        "def train():\n",
        "      model.train()\n",
        "      optimizer.zero_grad()\n",
        "      \n",
        "      sample_idx_rnd = np.random.randint(0,adjacencies.shape[-1])\n",
        "      x = torch.cat([coords[:,:,sample_idx_rnd],areas[:,:,sample_idx_rnd]],-1)\n",
        "      A = adjacencies[:,:,sample_idx_rnd]\n",
        "      edge_index = (A > 0).nonzero().t()\n",
        "      data = Data(x=x, edge_index=edge_index)\n",
        "      out = model(data.x, data.edge_index)  \n",
        "      loss = loss_normalized_cut(out, data )  \n",
        "      loss.backward()  \n",
        "      optimizer.step()  \n",
        "      return loss\n",
        "\n",
        "loss_array = []\n",
        "for epoch in range(1, 1000):\n",
        "    loss = train()\n",
        "    loss_array.append(loss.item())\n",
        "    if epoch==1 or epoch%200==0:\n",
        "      print(f'Epoch: {epoch:03d}, Loss: {loss:.4f}')"
      ],
      "metadata": {
        "colab": {
          "base_uri": "https://localhost:8080/"
        },
        "id": "6_pPb9Sms8lL",
        "outputId": "3b1c3269-1fa4-4f9c-e495-b2ddd2712bde"
      },
      "execution_count": 182,
      "outputs": [
        {
          "output_type": "stream",
          "name": "stderr",
          "text": [
            "/usr/local/lib/python3.7/dist-packages/ipykernel_launcher.py:7: UserWarning: To copy construct from a tensor, it is recommended to use sourceTensor.clone().detach() or sourceTensor.clone().detach().requires_grad_(True), rather than torch.tensor(sourceTensor).\n",
            "  import sys\n"
          ]
        },
        {
          "output_type": "stream",
          "name": "stdout",
          "text": [
            "Epoch: 001, Loss: 0.0667\n",
            "Epoch: 200, Loss: 0.0667\n",
            "Epoch: 400, Loss: 0.0667\n",
            "Epoch: 600, Loss: 0.0667\n",
            "Epoch: 800, Loss: 0.0667\n"
          ]
        }
      ]
    },
    {
      "cell_type": "code",
      "source": [
        "plt.plot(loss_array)"
      ],
      "metadata": {
        "colab": {
          "base_uri": "https://localhost:8080/",
          "height": 284
        },
        "id": "HHfGrT8Qx37N",
        "outputId": "9fc11d30-eee4-429f-b7a4-4cdfee225cbe"
      },
      "execution_count": 172,
      "outputs": [
        {
          "output_type": "execute_result",
          "data": {
            "text/plain": [
              "[<matplotlib.lines.Line2D at 0x7f5ba79d13d0>]"
            ]
          },
          "metadata": {},
          "execution_count": 172
        },
        {
          "output_type": "display_data",
          "data": {
            "text/plain": [
              "<Figure size 432x288 with 1 Axes>"
            ],
            "image/png": "[encoded data removed]"
          },
          "metadata": {
            "needs_background": "light"
          }
        }
      ]
    },
    {
      "cell_type": "code",
      "source": [
        "model.eval()\n",
        "sample_idx = np.random.randint(0,adjacencies.shape[-1])\n",
        "\n",
        "x_test = torch.cat([coords[:,:,sample_idx],areas[:,:,sample_idx]],-1)\n",
        "A_test = adjacencies[:,:,sample_idx]\n",
        "edge_index_test = (A_test > 0).nonzero().t()\n",
        "data_test = Data(x=x_test, edge_index=edge_index_test)\n",
        "\n",
        "out = model(data_test.x, data_test.edge_index)\n",
        "\n",
        "outclass = torch.tensor(out>=.5,dtype=torch.bool)\n",
        "class1 = outclass[:,0]\n",
        "class2 = outclass[:,1]  \n",
        "class1_idx = np.transpose(np.nonzero(class1))[0]\n",
        "class2_idx = np.transpose(np.nonzero(class2))[0]\n",
        "g = torch_geometric.utils.to_networkx(data_test, to_undirected=True)\n",
        "nx.draw(g,coords[:,:,sample_idx].tolist(),nodelist=class1_idx.tolist(), node_color=\"tab:red\")\n",
        "nx.draw(g,coords[:,:,sample_idx].tolist(),nodelist=class2_idx.tolist(), node_color=\"tab:blue\")\n",
        "\n",
        "# Areas\n",
        "areas_class1 = areas[class1,:,sample_idx]\n",
        "areas_class2 = areas[class2,:,sample_idx]\n",
        "area1 = sum(areas_class1)\n",
        "area2 = sum(areas_class2)\n",
        "print('\\nSample Index: ', sample_idx)\n",
        "print('Area1: ', area1.item(),'  |  Area2: ', area2.item(),'\\n')\n"
      ],
      "metadata": {
        "colab": {
          "base_uri": "https://localhost:8080/",
          "height": 443
        },
        "id": "w3aUbysytFUH",
        "outputId": "cfbd6fc1-5909-4aed-c2d0-681bfb93e014"
      },
      "execution_count": 183,
      "outputs": [
        {
          "output_type": "stream",
          "name": "stderr",
          "text": [
            "/usr/local/lib/python3.7/dist-packages/ipykernel_launcher.py:11: UserWarning: To copy construct from a tensor, it is recommended to use sourceTensor.clone().detach() or sourceTensor.clone().detach().requires_grad_(True), rather than torch.tensor(sourceTensor).\n",
            "  # This is added back by InteractiveShellApp.init_path()\n"
          ]
        },
        {
          "output_type": "stream",
          "name": "stdout",
          "text": [
            "\n",
            "Sample Index:  0\n",
            "Area1:  0.5   |  Area2:  0.5 \n",
            "\n"
          ]
        },
        {
          "output_type": "display_data",
          "data": {
            "text/plain": [
              "<Figure size 432x288 with 1 Axes>"
            ],
            "image/png": "[encoded data removed]"
          },
          "metadata": {}
        }
      ]
    },
    {
      "cell_type": "code",
      "source": [
        "data_test.x[:,-1].t().shape, outclass.shape"
      ],
      "metadata": {
        "colab": {
          "base_uri": "https://localhost:8080/"
        },
        "id": "cRaGfCLJpm1F",
        "outputId": "50c03687-0791-44f4-fb96-1aff8ec375b1"
      },
      "execution_count": 135,
      "outputs": [
        {
          "output_type": "execute_result",
          "data": {
            "text/plain": [
              "(torch.Size([1, 50]), torch.Size([50, 2]))"
            ]
          },
          "metadata": {},
          "execution_count": 135
        }
      ]
    },
    {
      "cell_type": "code",
      "source": [
        "outclass = torch.tensor(out>=.5,dtype=torch.float)\n",
        "torch.matmul(data_test.x[:,-1].t(),outclass)[0]"
      ],
      "metadata": {
        "colab": {
          "base_uri": "https://localhost:8080/"
        },
        "id": "UTBiQA9MpNqi",
        "outputId": "c707d323-0dac-47d3-9e6d-7bea7969f42c"
      },
      "execution_count": 156,
      "outputs": [
        {
          "output_type": "stream",
          "name": "stderr",
          "text": [
            "/usr/local/lib/python3.7/dist-packages/ipykernel_launcher.py:1: UserWarning: To copy construct from a tensor, it is recommended to use sourceTensor.clone().detach() or sourceTensor.clone().detach().requires_grad_(True), rather than torch.tensor(sourceTensor).\n",
            "  \"\"\"Entry point for launching an IPython kernel.\n"
          ]
        },
        {
          "output_type": "execute_result",
          "data": {
            "text/plain": [
              "tensor(0.5903)"
            ]
          },
          "metadata": {},
          "execution_count": 156
        }
      ]
    }
  ]
}