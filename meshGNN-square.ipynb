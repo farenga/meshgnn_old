{
  "nbformat": 4,
  "nbformat_minor": 0,
  "metadata": {
    "colab": {
      "name": "meshgraphNN.ipynb",
      "provenance": [],
      "collapsed_sections": [],
      "include_colab_link": true
    },
    "kernelspec": {
      "name": "python3",
      "display_name": "Python 3"
    },
    "language_info": {
      "name": "python"
    },
    "accelerator": "GPU"
  },
  "cells": [
    {
      "cell_type": "markdown",
      "metadata": {
        "id": "view-in-github",
        "colab_type": "text"
      },
      "source": [
        "<a href=\"https://colab.research.google.com/github/farenga/meshgnn/blob/main/meshGNN-square.ipynb\" target=\"_parent\"><img src=\"https://colab.research.google.com/assets/colab-badge.svg\" alt=\"Open In Colab\"/></a>"
      ]
    },
    {
      "cell_type": "code",
      "execution_count": null,
      "metadata": {
        "id": "1JlD7hAREcP4"
      },
      "outputs": [],
      "source": [
        "import torch\n",
        "\n",
        "def format_pytorch_version(version):\n",
        "  return version.split('+')[0]\n",
        "\n",
        "TORCH_version = torch.__version__\n",
        "TORCH = format_pytorch_version(TORCH_version)\n",
        "\n",
        "def format_cuda_version(version):\n",
        "  return 'cu' + version.replace('.', '')\n",
        "\n",
        "CUDA_version = torch.version.cuda\n",
        "CUDA = format_cuda_version(CUDA_version)\n",
        "\n",
        "!pip install torch-scatter -f https://data.pyg.org/whl/torch-{TORCH}+{CUDA}.html\n",
        "!pip install torch-sparse -f https://data.pyg.org/whl/torch-{TORCH}+{CUDA}.html\n",
        "!pip install torch-cluster -f https://data.pyg.org/whl/torch-{TORCH}+{CUDA}.html\n",
        "!pip install torch-spline-conv -f https://data.pyg.org/whl/torch-{TORCH}+{CUDA}.html\n",
        "!pip install torch-geometric"
      ]
    },
    {
      "cell_type": "code",
      "source": [
        "import numpy as np\n",
        "import torch_geometric\n",
        "from torch_geometric.data import Data\n",
        "import matplotlib.pyplot as plt\n",
        "import scipy.io\n",
        "import networkx as nx"
      ],
      "metadata": {
        "id": "AaCl5ZVr1dmq"
      },
      "execution_count": 2,
      "outputs": []
    },
    {
      "cell_type": "code",
      "source": [
        "from google.colab import drive\n",
        "drive.mount('/gdrive')\n",
        "\n",
        "%cd /gdrive/MyDrive/University/Courses/NAPDE-Project/data\n",
        "%ls"
      ],
      "metadata": {
        "colab": {
          "base_uri": "https://localhost:8080/"
        },
        "id": "7tNYTHLA2_dN",
        "outputId": "a4e21e39-29c7-487b-d309-05a5c5847d42"
      },
      "execution_count": 33,
      "outputs": [
        {
          "output_type": "stream",
          "name": "stdout",
          "text": [
            "Drive already mounted at /gdrive; to attempt to forcibly remount, call drive.mount(\"/gdrive\", force_remount=True).\n",
            "/gdrive/MyDrive/University/Courses/NAPDE-Project/data\n",
            "AdiacencyMatrices_square.mat   AreaVectors_voronoi.mat\n",
            "AdiacencyMatrices_voronoi.mat  CoordMatrices_square.mat\n",
            "AreaVectors_square.mat         CoordMatrices_voronoi.mat\n"
          ]
        }
      ]
    },
    {
      "cell_type": "code",
      "source": [
        "square=True\n",
        "voronoi=False\n",
        "\n",
        "if square:\n",
        "  areas = torch.tensor(scipy.io.loadmat('AreaVectors_square.mat')['AreaVectors'],dtype=torch.float)\n",
        "  coords = torch.tensor(scipy.io.loadmat('CoordMatrices_square.mat')['CoordMatrices'],dtype=torch.float)\n",
        "  adjacencies = torch.tensor(scipy.io.loadmat('AdiacencyMatrices_square.mat')['AdiacencyMatrices'])\n",
        "  areas = areas.unsqueeze(-1)\n",
        "  coords = coords.unsqueeze(-1)\n",
        "  adjacencies = adjacencies.unsqueeze(-1)\n",
        "\n",
        "if voronoi:\n",
        "  areas = torch.tensor(scipy.io.loadmat('AreaVectors_voronoi.mat')['AreaVectors'],dtype=torch.float)\n",
        "  coords = torch.tensor(scipy.io.loadmat('CoordMatrices_voronoi.mat')['CoordMatrices'],dtype=torch.float)\n",
        "  adjacencies = torch.tensor(scipy.io.loadmat('AdiacencyMatrices_voronoi.mat')['AdiacencyMatrices'])\n",
        "  "
      ],
      "metadata": {
        "id": "ltmw_Xub1soC"
      },
      "execution_count": 89,
      "outputs": []
    },
    {
      "cell_type": "code",
      "source": [
        "sample_idx = 0\n",
        "x = torch.cat([coords[:,:,sample_idx],areas[:,:,sample_idx]],-1)\n",
        "A = adjacencies[:,:,sample_idx]\n",
        "edge_index = (A > 0).nonzero().t()\n",
        "data = Data(x=x, edge_index=edge_index)"
      ],
      "metadata": {
        "id": "R_MJ0klRaxSk"
      },
      "execution_count": 90,
      "outputs": []
    },
    {
      "cell_type": "code",
      "source": [
        "print('DATA SUMMARY\\n')\n",
        "print(data)\n",
        "print('----------------------------------------')\n",
        "\n",
        "print(f'Number of nodes: {data.num_nodes}')\n",
        "print(f'Number of edges: {data.num_edges}')\n",
        "print(f'Average node degree: {data.num_edges / data.num_nodes:.2f}')"
      ],
      "metadata": {
        "colab": {
          "base_uri": "https://localhost:8080/"
        },
        "id": "RB6evg2jsiib",
        "outputId": "ff5b7375-abe5-42d0-9644-cb53d10e5f28"
      },
      "execution_count": 91,
      "outputs": [
        {
          "output_type": "stream",
          "name": "stdout",
          "text": [
            "DATA SUMMARY\n",
            "\n",
            "Data(x=[256, 3], edge_index=[2, 960])\n",
            "----------------------------------------\n",
            "Number of nodes: 256\n",
            "Number of edges: 960\n",
            "Average node degree: 3.75\n"
          ]
        }
      ]
    },
    {
      "cell_type": "code",
      "source": [
        "import torch.nn as nn\n",
        "from torch_geometric.nn import SAGEConv\n",
        "from torch_geometric.utils import softmax\n",
        "\n",
        "\n",
        "class GCN(torch.nn.Module):\n",
        "    def __init__(self, hidden_units):\n",
        "        super().__init__()\n",
        "        torch.manual_seed(123)\n",
        "        self.conv1 = SAGEConv(3, hidden_units)\n",
        "        self.conv2 = SAGEConv(hidden_units, hidden_units)\n",
        "        self.conv3 = SAGEConv(hidden_units, 2)\n",
        "\n",
        "    def forward(self, x, edge_index):\n",
        "        x = self.conv1(x, edge_index)\n",
        "        x = x.relu()\n",
        "        x = self.conv2(x, edge_index)\n",
        "        x = x.relu()\n",
        "        x = self.conv3(x, edge_index)\n",
        "        #x = torch.nn.functional.softmax(x)\n",
        "        x = nn.Softmax(dim=1)(x)\n",
        "        return x\n",
        "\n",
        "model = GCN(hidden_units=32)\n",
        "print(model)"
      ],
      "metadata": {
        "colab": {
          "base_uri": "https://localhost:8080/"
        },
        "id": "5ff79f5as37v",
        "outputId": "245d87d4-458f-46b9-9a31-7e759bb33c16"
      },
      "execution_count": 111,
      "outputs": [
        {
          "output_type": "stream",
          "name": "stdout",
          "text": [
            "GCN(\n",
            "  (conv1): SAGEConv(3, 32)\n",
            "  (conv2): SAGEConv(32, 32)\n",
            "  (conv3): SAGEConv(32, 2)\n",
            ")\n"
          ]
        }
      ]
    },
    {
      "cell_type": "code",
      "source": [
        "from torch_geometric.utils import degree\n",
        "def loss_normalized_cut(y,graph):\n",
        "  d=degree(graph.edge_index[0],num_nodes = y.size(0))\n",
        "  gamma = torch.t( y) @ d\n",
        "  c = torch.sum(y[ graph.edge_index[0],0]*y[graph.edge_index[1],1])\n",
        "  return torch.sum(torch.div(c,gamma))"
      ],
      "metadata": {
        "id": "8vUt7zJM92Xq"
      },
      "execution_count": 112,
      "outputs": []
    },
    {
      "cell_type": "code",
      "source": [
        "optimizer = torch.optim.Adam(model.parameters(), lr=0.01)\n",
        "#criterion = torch.nn.CrossEntropyLoss()\n",
        "\n",
        "def train():\n",
        "      model.train()\n",
        "      optimizer.zero_grad()  \n",
        "      out = model(data.x, data.edge_index)  \n",
        "      loss = loss_normalized_cut(out, data)  \n",
        "      loss.backward()  \n",
        "      optimizer.step()  \n",
        "      return loss\n",
        "\n",
        "loss_array = []\n",
        "for epoch in range(1, 301):\n",
        "    loss = train()\n",
        "    loss_array.append(loss.item())\n",
        "    if epoch==1 or epoch%10==0:\n",
        "      print(f'Epoch: {epoch:03d}, Loss: {loss:.4f}')"
      ],
      "metadata": {
        "colab": {
          "base_uri": "https://localhost:8080/"
        },
        "id": "6_pPb9Sms8lL",
        "outputId": "7dde9899-0caf-4924-a71f-f7a63b0acf08"
      },
      "execution_count": 113,
      "outputs": [
        {
          "output_type": "stream",
          "name": "stdout",
          "text": [
            "Epoch: 001, Loss: 0.9985\n",
            "Epoch: 010, Loss: 0.2815\n",
            "Epoch: 020, Loss: 0.1081\n",
            "Epoch: 030, Loss: 0.0956\n",
            "Epoch: 040, Loss: 0.0905\n",
            "Epoch: 050, Loss: 0.0848\n",
            "Epoch: 060, Loss: 0.0837\n",
            "Epoch: 070, Loss: 0.0764\n",
            "Epoch: 080, Loss: 0.0754\n",
            "Epoch: 090, Loss: 0.0742\n",
            "Epoch: 100, Loss: 0.0738\n",
            "Epoch: 110, Loss: 0.0733\n",
            "Epoch: 120, Loss: 0.0730\n",
            "Epoch: 130, Loss: 0.0728\n",
            "Epoch: 140, Loss: 0.0726\n",
            "Epoch: 150, Loss: 0.0725\n",
            "Epoch: 160, Loss: 0.0724\n",
            "Epoch: 170, Loss: 0.0723\n",
            "Epoch: 180, Loss: 0.0722\n",
            "Epoch: 190, Loss: 0.0721\n",
            "Epoch: 200, Loss: 0.0721\n",
            "Epoch: 210, Loss: 0.0720\n",
            "Epoch: 220, Loss: 0.0720\n",
            "Epoch: 230, Loss: 0.0719\n",
            "Epoch: 240, Loss: 0.0719\n",
            "Epoch: 250, Loss: 0.0719\n",
            "Epoch: 260, Loss: 0.0718\n",
            "Epoch: 270, Loss: 0.0718\n",
            "Epoch: 280, Loss: 0.0718\n",
            "Epoch: 290, Loss: 0.0718\n",
            "Epoch: 300, Loss: 0.0718\n"
          ]
        }
      ]
    },
    {
      "cell_type": "code",
      "source": [
        "plt.plot(loss_array)"
      ],
      "metadata": {
        "colab": {
          "base_uri": "https://localhost:8080/",
          "height": 282
        },
        "id": "HHfGrT8Qx37N",
        "outputId": "1e2c9064-4b89-4cb5-ab4b-58969afb35e9"
      },
      "execution_count": 114,
      "outputs": [
        {
          "output_type": "execute_result",
          "data": {
            "text/plain": [
              "[<matplotlib.lines.Line2D at 0x7fc4d3979ed0>]"
            ]
          },
          "metadata": {},
          "execution_count": 114
        },
        {
          "output_type": "display_data",
          "data": {
            "text/plain": [
              "<Figure size 432x288 with 1 Axes>"
            ],
            "image/png": "[encoded data removed]"
          },
          "metadata": {
            "needs_background": "light"
          }
        }
      ]
    },
    {
      "cell_type": "code",
      "source": [
        "model.eval()\n",
        "sample_idx = 0\n",
        "x_test = torch.cat([coords[:,:,sample_idx],areas[:,:,sample_idx]],-1)\n",
        "A_test = adjacencies[:,:,sample_idx]\n",
        "edge_index_test = (A_test > 0).nonzero().t()\n",
        "data_test = Data(x=x_test, edge_index=edge_index_test)\n",
        "\n",
        "out = model(data_test.x, data_test.edge_index)\n",
        "\n",
        "outclass = torch.tensor(out>=.5,dtype=torch.bool)\n",
        "class1 = outclass[:,0]\n",
        "class2 = outclass[:,1]  \n",
        "class1_idx = np.transpose(np.nonzero(class1))[0]\n",
        "class2_idx = np.transpose(np.nonzero(class2))[0]\n",
        "g = torch_geometric.utils.to_networkx(data_test, to_undirected=True)\n",
        "nx.draw(g,coords[:,:,sample_idx].tolist(),nodelist=class1_idx.tolist(), node_color=\"tab:red\")\n",
        "nx.draw(g,coords[:,:,sample_idx].tolist(),nodelist=class2_idx.tolist(), node_color=\"tab:blue\")"
      ],
      "metadata": {
        "colab": {
          "base_uri": "https://localhost:8080/",
          "height": 374
        },
        "id": "w3aUbysytFUH",
        "outputId": "81d068c8-f81f-4bb4-8729-9dab6e7738f5"
      },
      "execution_count": 115,
      "outputs": [
        {
          "output_type": "stream",
          "name": "stderr",
          "text": [
            "/usr/local/lib/python3.7/dist-packages/ipykernel_launcher.py:10: UserWarning: To copy construct from a tensor, it is recommended to use sourceTensor.clone().detach() or sourceTensor.clone().detach().requires_grad_(True), rather than torch.tensor(sourceTensor).\n",
            "  # Remove the CWD from sys.path while we load stuff.\n"
          ]
        },
        {
          "output_type": "display_data",
          "data": {
            "text/plain": [
              "<Figure size 432x288 with 1 Axes>"
            ],
            "image/png": "[encoded data removed]"
          },
          "metadata": {}
        }
      ]
    },
    {
      "cell_type": "code",
      "source": [
        "areas_class1 = areas[class1,:,sample_idx]\n",
        "areas_class2 = areas[class2,:,sample_idx]\n",
        "area1 = sum(areas_class1)\n",
        "area2 = sum(areas_class2)\n",
        "print('Area1: ', area1.item(),'  |  Area2: ', area2.item())"
      ],
      "metadata": {
        "colab": {
          "base_uri": "https://localhost:8080/"
        },
        "id": "trbLX5AZnsr2",
        "outputId": "3822fbb1-a0ab-48b3-e06f-0f47b29d04f9"
      },
      "execution_count": 116,
      "outputs": [
        {
          "output_type": "stream",
          "name": "stdout",
          "text": [
            "Area1:  0.45703125   |  Area2:  0.54296875\n"
          ]
        }
      ]
    }
  ]
}